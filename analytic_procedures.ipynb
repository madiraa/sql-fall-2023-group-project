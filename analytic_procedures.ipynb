{
 "cells": [
  {
   "cell_type": "code",
   "execution_count": null,
   "metadata": {},
   "outputs": [],
   "source": [
    "import psycopg2\n",
    "import matplotlib.pyplot as plt\n",
    "from datetime import datetime"
   ]
  },
  {
   "cell_type": "code",
   "execution_count": null,
   "metadata": {},
   "outputs": [],
   "source": [
    "db_params = {\n",
    "    \"host\":\"localhost\",\n",
    "    \"database\":\"postgres\",\n",
    "    \"user\":\"postgres\",\n",
    "    \"password\":\"123\"\n",
    "}"
   ]
  },
  {
   "cell_type": "code",
   "execution_count": null,
   "metadata": {},
   "outputs": [],
   "source": [
    "# Function to execute SQL queries and return results\n",
    "def execute_query(query, params=None):\n",
    "    conn = psycopg2.connect(**db_params)\n",
    "    cur = conn.cursor()\n",
    "    if params:\n",
    "        cur.execute(query, params)\n",
    "    else:\n",
    "        cur.execute(query)\n",
    "    result = cur.fetchall()\n",
    "    cur.close()\n",
    "    conn.close()\n",
    "    return result"
   ]
  },
  {
   "cell_type": "markdown",
   "metadata": {},
   "source": [
    "**Analytic Procedure 1: Average Trip Cost by Booking Channel**\n",
    "\n",
    "Why it's useful: This procedure calculates and displays the average trip cost for each booking channel (payment method) used by Supertravel customers. It helps the company identify which booking channels are generating higher-value trips and can inform marketing and partnership strategies."
   ]
  },
  {
   "cell_type": "code",
   "execution_count": null,
   "metadata": {},
   "outputs": [],
   "source": [
    "# Analytic Procedure 1: Average Trip Cost by Booking Channel\n",
    "query_1 = \"\"\"\n",
    "SELECT\n",
    "    pm.payment_type AS booking_channel,\n",
    "    AVG(b.amount_due) AS avg_trip_cost\n",
    "FROM\n",
    "    car_reservation AS b\n",
    "JOIN\n",
    "    payment_method AS pm\n",
    "ON\n",
    "    b.customer_id = pm.customer_id\n",
    "GROUP BY\n",
    "    pm.payment_type\n",
    "ORDER BY\n",
    "    avg_trip_cost DESC;\n",
    "\"\"\"\n",
    "\n",
    "result_1 = execute_query(query_1)\n",
    "print(\"Analytic Procedure 1 Results:\")\n",
    "for row in result_1:\n",
    "    print(row)"
   ]
  },
  {
   "cell_type": "code",
   "execution_count": null,
   "metadata": {},
   "outputs": [],
   "source": [
    "# Extracting data from the query results\n",
    "booking_channels = [row[0] for row in result_1]\n",
    "avg_trip_costs = [float(row[1]) for row in result_1]\n",
    "\n",
    "# Create a bar chart\n",
    "plt.figure(figsize=(8, 6))\n",
    "plt.bar(booking_channels, avg_trip_costs, color='skyblue')\n",
    "plt.xlabel('Booking Channel')\n",
    "plt.ylabel('Average Trip Cost')\n",
    "plt.title('Average Trip Cost by Booking Channel')\n",
    "plt.xticks(rotation=45)  # Rotate x-axis labels for better readability\n",
    "\n",
    "# Display the chart\n",
    "plt.tight_layout()\n",
    "plt.show()"
   ]
  },
  {
   "cell_type": "markdown",
   "metadata": {},
   "source": [
    "**Analytic Procedure 2: Flight Booking Trends Over Time**\n",
    "\n",
    "Why it's useful: This procedure provides insights into the booking trends for flights over time. Supertravel can use this information to identify peak booking months, plan promotions, and optimize resource allocation."
   ]
  },
  {
   "cell_type": "code",
   "execution_count": null,
   "metadata": {},
   "outputs": [],
   "source": [
    "# Analytic Procedure 2: Flight Booking Trends Over Time\n",
    "query_2 = \"\"\"\n",
    "SELECT\n",
    "    date_trunc('month', b.booked_date) AS booking_month,\n",
    "    COUNT(*) AS total_bookings\n",
    "FROM\n",
    "    bookings AS b\n",
    "JOIN\n",
    "    flights AS f\n",
    "ON\n",
    "    b.flight_id = f.flight_id\n",
    "GROUP BY\n",
    "    booking_month\n",
    "ORDER BY\n",
    "    booking_month;\n",
    "\"\"\"\n",
    "\n",
    "result_2 = execute_query(query_2)\n",
    "print(\"\\nAnalytic Procedure 2 Results:\")\n",
    "for row in result_2:\n",
    "    print(row)"
   ]
  },
  {
   "cell_type": "code",
   "execution_count": null,
   "metadata": {},
   "outputs": [],
   "source": [
    "# Extracting data from the query results\n",
    "booking_months = [row[0] for row in result_2]\n",
    "total_bookings = [int(row[1]) for row in result_2]\n",
    "\n",
    "# Create a line chart\n",
    "plt.figure(figsize=(10, 6))\n",
    "plt.plot(booking_months, total_bookings, marker='o', linestyle='-')\n",
    "plt.xlabel('Booking Month')\n",
    "plt.ylabel('Total Bookings')\n",
    "plt.title('Flight Booking Trends Over Time')\n",
    "plt.grid(True)\n",
    "\n",
    "# Rotate x-axis labels for better readability\n",
    "plt.xticks(rotation=45)\n",
    "\n",
    "# Display the chart\n",
    "plt.tight_layout()\n",
    "plt.show()"
   ]
  },
  {
   "cell_type": "markdown",
   "metadata": {},
   "source": [
    "**Analytic Procedure 3: Customer Demographics and Booking Preferences**\n",
    "\n",
    "Why it's valuable: This procedure provides insights into customer demographics and booking preferences. Supertravel can use this information to tailor marketing strategies, offers, and services to specific customer segments."
   ]
  },
  {
   "cell_type": "code",
   "execution_count": null,
   "metadata": {},
   "outputs": [],
   "source": [
    "# Analytic Procedure 3: Hotel Ratings and Average Booking Amount\n",
    "query_3 = \"\"\"\n",
    "SELECT\n",
    "    c.age AS customer_age,\n",
    "    c.gender AS customer_gender,\n",
    "    COUNT(*) AS total_bookings\n",
    "FROM\n",
    "    customers AS c\n",
    "JOIN\n",
    "    bookings AS b\n",
    "ON\n",
    "    c.booking_id = b.booking_id\n",
    "GROUP BY\n",
    "    c.age, c.gender\n",
    "ORDER BY\n",
    "    total_bookings DESC;\n",
    "\n",
    "\"\"\"\n",
    "\n",
    "result_3 = execute_query(query_3)\n",
    "print(\"\\nAnalytic Procedure 3 Results:\")\n",
    "for row in result_3:\n",
    "    print(row)"
   ]
  },
  {
   "cell_type": "code",
   "execution_count": null,
   "metadata": {},
   "outputs": [],
   "source": [
    "# Extracting data from the query results\n",
    "customer_age_gender = [f\"{row[0]}-{row[1]}\" for row in result_3]\n",
    "total_bookings = [int(row[2]) for row in result_3]\n",
    "\n",
    "# Create a bar chart\n",
    "plt.figure(figsize=(12, 6))\n",
    "plt.bar(customer_age_gender, total_bookings)\n",
    "plt.xlabel('Customer Age and Gender')\n",
    "plt.ylabel('Total Bookings')\n",
    "plt.title('Total Bookings by Customer Age and Gender')\n",
    "plt.xticks(rotation=45, ha=\"right\")\n",
    "\n",
    "# Display the chart\n",
    "plt.tight_layout()\n",
    "plt.show()"
   ]
  },
  {
   "cell_type": "markdown",
   "metadata": {},
   "source": [
    "**Analytic Procedure 4: Flight Booking Trends by Month**\n",
    "\n",
    "Why it's valuable: This procedure analyzes flight booking trends over time, helping Supertravel identify seasonal patterns and plan marketing campaigns or pricing strategies accordingly."
   ]
  },
  {
   "cell_type": "code",
   "execution_count": null,
   "metadata": {},
   "outputs": [],
   "source": [
    "query_4 = \"\"\"\n",
    "SELECT\n",
    "    DATE_TRUNC('month', f.flightDate) AS booking_month,\n",
    "    COUNT(*) AS total_bookings\n",
    "FROM\n",
    "    flights AS f\n",
    "JOIN\n",
    "    flight_reservations AS fr\n",
    "ON\n",
    "    f.flight_id = fr.flight_id\n",
    "GROUP BY\n",
    "    booking_month\n",
    "ORDER BY\n",
    "    booking_month;\n",
    "\"\"\"\n",
    "\n",
    "result_4 = execute_query(query_4)\n",
    "print(\"\\nAnalytic Procedure 3 Results:\")\n",
    "for row in result_4:\n",
    "    print(row)"
   ]
  },
  {
   "cell_type": "code",
   "execution_count": null,
   "metadata": {},
   "outputs": [],
   "source": [
    "# Extracting data from the query results\n",
    "booking_months = [row[0] for row in result_4]\n",
    "total_bookings = [int(row[1]) for row in result_4]\n",
    "\n",
    "# Create a line chart\n",
    "plt.figure(figsize=(12, 6))\n",
    "plt.plot(booking_months, total_bookings, marker='o', linestyle='-', color='b')\n",
    "plt.xlabel('Booking Month')\n",
    "plt.ylabel('Total Bookings')\n",
    "plt.title('Total Flight Bookings Over Time')\n",
    "plt.xticks(rotation=45)\n",
    "\n",
    "# Display the chart\n",
    "plt.grid(True)\n",
    "plt.tight_layout()\n",
    "plt.show()"
   ]
  },
  {
   "cell_type": "markdown",
   "metadata": {},
   "source": [
    "**Analytic Procedure 5: Popular Travel Destinations by City**\n",
    "\n",
    "Why it's valuable: This procedure identifies popular travel destinations by city based on the number of hotel bookings. Supertravel can use this information to prioritize marketing efforts and tailor promotions for these destinations."
   ]
  },
  {
   "cell_type": "code",
   "execution_count": null,
   "metadata": {},
   "outputs": [],
   "source": [
    "query_5 = \"\"\"\n",
    "SELECT\n",
    "    city,\n",
    "    COUNT(*) AS total_bookings\n",
    "FROM\n",
    "    hotels\n",
    "GROUP BY\n",
    "    city\n",
    "ORDER BY\n",
    "    total_bookings DESC;\n",
    "\"\"\"\n",
    "\n",
    "result_5 = execute_query(query_5)\n",
    "print(\"\\nAnalytic Procedure 5 Results:\")\n",
    "for row in result_5:\n",
    "    print(row)"
   ]
  },
  {
   "cell_type": "code",
   "execution_count": null,
   "metadata": {},
   "outputs": [],
   "source": [
    "\n",
    "# Extracting data from the query results\n",
    "cities = [row[0] for row in result_5]\n",
    "total_bookings = [int(row[1]) for row in result_5]\n",
    "\n",
    "# Create a bar chart\n",
    "plt.figure(figsize=(12, 6))\n",
    "plt.bar(cities, total_bookings, color='b')\n",
    "plt.xlabel('City')\n",
    "plt.ylabel('Total Bookings')\n",
    "plt.title('Total Hotel Bookings by City')\n",
    "\n",
    "# Rotate x-axis labels for better readability\n",
    "plt.xticks(rotation=45)\n",
    "\n",
    "# Display the chart\n",
    "plt.tight_layout()\n",
    "plt.show()"
   ]
  },
  {
   "cell_type": "markdown",
   "metadata": {},
   "source": [
    "**Analytic Procedure 6: Average Vehicle Daily Rate by Make and Model**\n",
    "\n",
    "Why it's valuable: This procedure calculates the average daily rate for rental vehicles by their make and model. Supertravel can use this information to optimize pricing strategies and promotions for specific vehicle types."
   ]
  },
  {
   "cell_type": "code",
   "execution_count": null,
   "metadata": {},
   "outputs": [],
   "source": [
    "query_6 = \"\"\"\n",
    "SELECT\n",
    "    make,\n",
    "    model,\n",
    "    AVG(daily_rate) AS avg_daily_rate\n",
    "FROM\n",
    "    vehicles\n",
    "GROUP BY\n",
    "    make, model\n",
    "ORDER BY\n",
    "    avg_daily_rate DESC;\n",
    "\"\"\"\n",
    "\n",
    "result_6 = execute_query(query_6)\n",
    "print(\"\\nAnalytic Procedure 6 Results:\")\n",
    "for row in result_6:\n",
    "    print(row)"
   ]
  },
  {
   "cell_type": "code",
   "execution_count": null,
   "metadata": {},
   "outputs": [],
   "source": [
    "# Extracting data from the query results\n",
    "vehicle_info = [f\"{row[0]} {row[1]}\" for row in result_6]\n",
    "avg_daily_rates = [float(row[2]) for row in result_6]\n",
    "\n",
    "# Create a bar chart\n",
    "plt.figure(figsize=(12, 6))\n",
    "plt.barh(vehicle_info, avg_daily_rates, color='g')\n",
    "plt.xlabel('Average Daily Rate')\n",
    "plt.ylabel('Vehicle Make and Model')\n",
    "plt.title('Average Daily Rates of Vehicles by Make and Model')\n",
    "\n",
    "# Display the chart\n",
    "plt.tight_layout()\n",
    "plt.show()"
   ]
  },
  {
   "cell_type": "markdown",
   "metadata": {},
   "source": [
    "**Analytic Procedure 7: Flight Booking Patterns by Airline**\n",
    "\n",
    "Why it's valuable: This procedure analyzes flight booking patterns by airline, including the total number of bookings and the average fare for each airline. Supertravel can use this data to evaluate the performance of partner airlines and make informed decisions about partnerships and pricing."
   ]
  },
  {
   "cell_type": "code",
   "execution_count": null,
   "metadata": {},
   "outputs": [],
   "source": [
    "query_7 = \"\"\"\n",
    "SELECT\n",
    "    a.name AS airline_name,\n",
    "    COUNT(*) AS total_bookings,\n",
    "    AVG(fr.totalFare) AS avg_fare\n",
    "FROM\n",
    "    airlines AS a\n",
    "LEFT JOIN\n",
    "    flights AS f\n",
    "ON\n",
    "    a.airline_id = f.airline_id\n",
    "LEFT JOIN\n",
    "    flight_reservations AS fr\n",
    "ON\n",
    "    f.flight_id = fr.flight_id\n",
    "GROUP BY\n",
    "    a.name\n",
    "ORDER BY\n",
    "    total_bookings DESC;\n",
    "\"\"\"\n",
    "\n",
    "result_7 = execute_query(query_7)\n",
    "print(\"\\nAnalytic Procedure 7 Results:\")\n",
    "for row in result_7:\n",
    "    print(row)"
   ]
  },
  {
   "cell_type": "code",
   "execution_count": null,
   "metadata": {},
   "outputs": [],
   "source": [
    "# Extracting data from the query results\n",
    "airline_names = [row[0] for row in result_7]\n",
    "total_bookings = [int(row[1]) for row in result_7]\n",
    "avg_fares = [float(row[2]) if row[2] is not None else 0.0 for row in result_7]\n",
    "\n",
    "# Create two subplots side by side\n",
    "fig, (ax1, ax2) = plt.subplots(1, 2, figsize=(14, 6))\n",
    "\n",
    "# Plot total bookings\n",
    "ax1.barh(airline_names, total_bookings, color='b')\n",
    "ax1.set_xlabel('Total Bookings')\n",
    "ax1.set_ylabel('Airline Name')\n",
    "ax1.set_title('Total Bookings by Airline')\n",
    "\n",
    "# Plot average fares\n",
    "ax2.barh(airline_names, avg_fares, color='g')\n",
    "ax2.set_xlabel('Average Fare')\n",
    "ax2.set_ylabel('Airline Name')\n",
    "ax2.set_title('Average Fare by Airline')\n",
    "\n",
    "# Display the chart\n",
    "plt.tight_layout()\n",
    "plt.show()"
   ]
  },
  {
   "cell_type": "markdown",
   "metadata": {},
   "source": [
    "**Analytic Procedure 8: Customer Loyalty and Booking Trends**\n",
    "\n",
    "Why it's valuable: This procedure analyzes customer loyalty and booking trends over the years. It identifies the number of loyal customers and the total number of bookings each year, helping Supertravel understand customer retention and long-term trends."
   ]
  },
  {
   "cell_type": "code",
   "execution_count": null,
   "metadata": {},
   "outputs": [],
   "source": [
    "query_8 = \"\"\"\n",
    "SELECT\n",
    "    EXTRACT(YEAR FROM booked_date) AS booking_year,\n",
    "    COUNT(DISTINCT c.customer_id) AS loyal_customers,\n",
    "    COUNT(*) AS total_bookings\n",
    "FROM\n",
    "    customers AS c\n",
    "JOIN\n",
    "    bookings AS b\n",
    "ON\n",
    "    c.booking_id = b.booking_id\n",
    "GROUP BY\n",
    "    booking_year\n",
    "ORDER BY\n",
    "    booking_year;\n",
    "\"\"\"\n",
    "\n",
    "result_8 = execute_query(query_8)\n",
    "print(\"\\nAnalytic Procedure 8 Results:\")\n",
    "for row in result_8:\n",
    "    print(row)\n"
   ]
  },
  {
   "cell_type": "code",
   "execution_count": null,
   "metadata": {},
   "outputs": [],
   "source": [
    "# Extracting data from the query results\n",
    "booking_years = [int(row[0]) for row in result_8]\n",
    "loyal_customers = [int(row[1]) for row in result_8]\n",
    "total_bookings = [int(row[2]) for row in result_8]\n",
    "\n",
    "# Create a line chart\n",
    "plt.figure(figsize=(10, 6))\n",
    "plt.plot(booking_years, loyal_customers, marker='o', label='Loyal Customers', color='b')\n",
    "plt.plot(booking_years, total_bookings, marker='o', label='Total Bookings', color='g')\n",
    "\n",
    "# Add labels and title\n",
    "plt.xlabel('Booking Year')\n",
    "plt.ylabel('Count')\n",
    "plt.title('Loyal Customers vs. Total Bookings Over the Years')\n",
    "\n",
    "# Add a legend\n",
    "plt.legend()\n",
    "\n",
    "# Show the chart\n",
    "plt.grid(True)\n",
    "plt.tight_layout()\n",
    "plt.show()"
   ]
  },
  {
   "cell_type": "markdown",
   "metadata": {},
   "source": [
    "**Analytic Procedure 9: Hotel Star Ratings and Customer Reviews**\n",
    "\n",
    "Why it's valuable: This procedure explores the relationship between hotel star ratings and customer reviews. It calculates the average rating for each star category, helping Supertravel assess the accuracy of star ratings and make informed decisions about hotel partnerships."
   ]
  },
  {
   "cell_type": "code",
   "execution_count": null,
   "metadata": {},
   "outputs": [],
   "source": [
    "query_9 = \"\"\"\n",
    "SELECT\n",
    "    h.stars AS hotel_stars,\n",
    "    AVG(r.rating) AS avg_rating\n",
    "FROM\n",
    "    hotels AS h\n",
    "LEFT JOIN\n",
    "    reviews AS r\n",
    "ON\n",
    "    h.hotel_id = r.hotel_id\n",
    "GROUP BY\n",
    "    hotel_stars\n",
    "ORDER BY\n",
    "    hotel_stars;\n",
    "\"\"\"\n",
    "\n",
    "result_9 = execute_query(query_9)\n",
    "print(\"\\nAnalytic Procedure 9 Results:\")\n",
    "for row in result_9:\n",
    "    print(row)\n"
   ]
  },
  {
   "cell_type": "code",
   "execution_count": null,
   "metadata": {},
   "outputs": [],
   "source": [
    "# Extracting data from the query results while skipping rows with None values\n",
    "hotel_stars = [float(row[0]) for row in result_9 if row[1] is not None]\n",
    "avg_rating = [float(row[1]) for row in result_9 if row[1] is not None]\n",
    "\n",
    "# Create a bar chart\n",
    "plt.figure(figsize=(10, 6))\n",
    "plt.bar(hotel_stars, avg_rating, color='skyblue')\n",
    "\n",
    "# Add labels and title\n",
    "plt.xlabel('Hotel Stars')\n",
    "plt.ylabel('Average Rating')\n",
    "plt.title('Average Rating by Hotel Stars')\n",
    "\n",
    "# Show the chart\n",
    "plt.grid(True)\n",
    "plt.tight_layout()\n",
    "plt.show()"
   ]
  },
  {
   "cell_type": "markdown",
   "metadata": {},
   "source": [
    "**Analytic Procedure 10: Travel Duration and Booking Preferences**\n",
    "\n",
    "Why it's valuable: This procedure examines booking preferences related to flight duration. It calculates the average travel duration for both non-stop and non-non-stop (connecting) flights, allowing Supertravel to understand customer preferences for flight duration.\n"
   ]
  },
  {
   "cell_type": "code",
   "execution_count": null,
   "metadata": {},
   "outputs": [],
   "source": [
    "query_10 = \"\"\"\n",
    "SELECT\n",
    "    f.isNonStop,\n",
    "    AVG(f.travelDuration) AS avg_duration\n",
    "FROM\n",
    "    flights AS f\n",
    "JOIN\n",
    "    flight_reservations AS fr\n",
    "ON\n",
    "    f.flight_id = fr.flight_id\n",
    "GROUP BY\n",
    "    f.isNonStop;\n",
    "\"\"\"\n",
    "\n",
    "result_10 = execute_query(query_10)\n",
    "print(\"\\nAnalytic Procedure 10 Results:\")\n",
    "for row in result_10:\n",
    "    print(row)\n"
   ]
  },
  {
   "cell_type": "code",
   "execution_count": null,
   "metadata": {},
   "outputs": [],
   "source": [
    "# Extracting data from the query results\n",
    "is_non_stop = [row[0] for row in result_10]\n",
    "avg_duration = [float(row[1]) for row in result_10]\n",
    "\n",
    "# Create a bar chart\n",
    "plt.figure(figsize=(8, 6))\n",
    "plt.bar(is_non_stop, avg_duration, color='skyblue')\n",
    "\n",
    "# Add labels and title\n",
    "plt.xlabel('Flight Type (Non-Stop / Stopover)')\n",
    "plt.ylabel('Average Travel Duration (minutes)')\n",
    "plt.title('Average Travel Duration by Flight Type')\n",
    "\n",
    "# Show the chart\n",
    "plt.grid(True)\n",
    "plt.tight_layout()\n",
    "plt.show()"
   ]
  }
 ],
 "metadata": {
  "kernelspec": {
   "display_name": "base",
   "language": "python",
   "name": "python3"
  },
  "language_info": {
   "codemirror_mode": {
    "name": "ipython",
    "version": 3
   },
   "file_extension": ".py",
   "mimetype": "text/x-python",
   "name": "python",
   "nbconvert_exporter": "python",
   "pygments_lexer": "ipython3",
   "version": "3.9.13"
  }
 },
 "nbformat": 4,
 "nbformat_minor": 2
}
